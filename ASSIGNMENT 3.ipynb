{
 "cells": [
  {
   "cell_type": "code",
   "execution_count": 4,
   "id": "0ed55680-47b4-43d6-93cb-161c8cf1f99b",
   "metadata": {},
   "outputs": [
    {
     "data": {
      "text/plain": [
       "\"ANSWER1\\n'def ' word is used to create a function \""
      ]
     },
     "execution_count": 4,
     "metadata": {},
     "output_type": "execute_result"
    }
   ],
   "source": [
    "'''ANSWER1\n",
    "'def ' word is used to create a function '''\n",
    "\n"
   ]
  },
  {
   "cell_type": "code",
   "execution_count": 18,
   "id": "ad44558f-0b3b-4456-bf3d-2cc379fe7785",
   "metadata": {},
   "outputs": [
    {
     "name": "stdout",
     "output_type": "stream",
     "text": [
      "[1, 3, 5, 7, 9, 11, 13, 15, 17, 19, 21, 23, 25] "
     ]
    }
   ],
   "source": [
    "\n",
    "l1 =[]\n",
    "def num_odd():\n",
    "    \n",
    "    for i in range(0,26):\n",
    "          \n",
    "        m = i%2\n",
    "        if m!=0:\n",
    "             \n",
    "            l1.append(i)\n",
    "            \n",
    "        else :\n",
    "            continue\n",
    "    return l1\n",
    "\n",
    "\n",
    "l2 =num_odd()\n",
    "print(l2,end=\" \")"
   ]
  },
  {
   "cell_type": "code",
   "execution_count": 20,
   "id": "c948408b-6275-4571-9ea3-aeea74c45c94",
   "metadata": {},
   "outputs": [
    {
     "data": {
      "text/plain": [
       "'ANSWER 2  \\nThe *args parameter allows a function to accept any number of positional arguments as a tuple.\\nThe **kwargs parameter allows a function to accept any number of keyword arguments as a dictionary'"
      ]
     },
     "execution_count": 20,
     "metadata": {},
     "output_type": "execute_result"
    }
   ],
   "source": [
    "'''ANSWER 2  \n",
    "The *args parameter allows a function to accept any number of positional arguments as a tuple.\n",
    "The **kwargs parameter allows a function to accept any number of keyword arguments as a dictionary'''"
   ]
  },
  {
   "cell_type": "code",
   "execution_count": 29,
   "id": "be007788-2d55-4a38-9e1d-9288f1932daa",
   "metadata": {},
   "outputs": [
    {
     "name": "stdout",
     "output_type": "stream",
     "text": [
      "pw\n",
      "skills\n",
      "name: amit\n",
      "age: 20\n",
      "pincode: 332122\n"
     ]
    }
   ],
   "source": [
    "def print_args(*args):\n",
    "    for arg in args:\n",
    "        print(arg)\n",
    "\n",
    "print_args(\"pw\", \"skills\")  \n",
    "def print_kwargs(**kwargs):\n",
    "    for key, value in kwargs.items():\n",
    "        print(f\"{key}: {value}\")\n",
    "\n",
    "print_kwargs(name=\"amit\", age=20, pincode=332122)\n",
    "\n",
    "\n"
   ]
  },
  {
   "cell_type": "code",
   "execution_count": 37,
   "id": "2dc632f6-a009-483a-9c24-8ddbae4e710e",
   "metadata": {},
   "outputs": [
    {
     "data": {
      "text/plain": [
       "'ANSWER 3 \\nan iterator is an object that allows you to traverse or iterate over a sequence of elements. \\nIt provides a way to access the elements of a collection one by one without the need to know the \\ninternal implementation details of that collection.\\nTo initialize an iterator object in Python, you can use the iter() function. \\nThe iter() function takes an iterable as an argument and returns an iterator object.\\n\\nTo iterate over the elements of an iterator, you can use the next() function. \\nThe next() function retrieves the next element from the iterator. By calling next() repeatedly, you can access each element of the sequence.'"
      ]
     },
     "execution_count": 37,
     "metadata": {},
     "output_type": "execute_result"
    }
   ],
   "source": [
    "'''ANSWER 3 \n",
    "an iterator is an object that allows you to traverse or iterate over a sequence of elements. \n",
    "It provides a way to access the elements of a collection one by one without the need to know the \n",
    "internal implementation details of that collection.\n",
    "To initialize an iterator object in Python, you can use the iter() function. \n",
    "The iter() function takes an iterable as an argument and returns an iterator object.\n",
    "\n",
    "To iterate over the elements of an iterator, you can use the next() function. \n",
    "The next() function retrieves the next element from the iterator. By calling next() repeatedly, you can access each element of the sequence.'''"
   ]
  },
  {
   "cell_type": "code",
   "execution_count": 40,
   "id": "fa49cdc9-4243-491a-96ba-08bd6c0ca593",
   "metadata": {},
   "outputs": [
    {
     "name": "stdout",
     "output_type": "stream",
     "text": [
      "2\n",
      "4\n",
      "6\n",
      "8\n",
      "10\n"
     ]
    }
   ],
   "source": [
    "l = [2, 4, 6, 8, 10, 12, 14,16, 18, 20]\n",
    "list_iterator =iter(l)\n",
    "for i in range(0,5):\n",
    "    element =next(list_iterator)\n",
    "    print(element)"
   ]
  },
  {
   "cell_type": "code",
   "execution_count": 7,
   "id": "6e3f18c1-98ca-44ef-9474-94db1d0c879b",
   "metadata": {},
   "outputs": [
    {
     "data": {
      "text/plain": [
       "'ANSWER 4        A generator function in Python is a special type of function that generates\\na sequence of values instead of returning a single value. It uses the yield keyword instead of return.\\nThe yield keyword allows the function to produce a value and temporarily \\nsuspend its execution. When the generator is iterated, it resumes execution from where it left off.'"
      ]
     },
     "execution_count": 7,
     "metadata": {},
     "output_type": "execute_result"
    }
   ],
   "source": [
    "'''ANSWER 4        A generator function in Python is a special type of function that generates\n",
    "a sequence of values instead of returning a single value. It uses the yield keyword instead of return.\n",
    "The yield keyword allows the function to produce a value and temporarily \n",
    "suspend its execution. When the generator is iterated, it resumes execution from where it left off.'''"
   ]
  },
  {
   "cell_type": "code",
   "execution_count": 8,
   "id": "411433b3-fbc8-411f-a376-d1f011336a60",
   "metadata": {},
   "outputs": [
    {
     "name": "stdout",
     "output_type": "stream",
     "text": [
      "0\n",
      "2\n",
      "4\n",
      "6\n",
      "8\n"
     ]
    }
   ],
   "source": [
    "def even_numbers():\n",
    "    n = 0\n",
    "    while True:\n",
    "        yield n\n",
    "        n += 2\n",
    "evens =even_numbers()\n",
    "for i in range(5):\n",
    "    print(next(evens))\n"
   ]
  },
  {
   "cell_type": "code",
   "execution_count": 9,
   "id": "a6aa0b8c-b823-462d-bd19-a39dfbc7da82",
   "metadata": {},
   "outputs": [
    {
     "data": {
      "text/plain": [
       "'ANSWER 5'"
      ]
     },
     "execution_count": 9,
     "metadata": {},
     "output_type": "execute_result"
    }
   ],
   "source": [
    "'''ANSWER 5'''"
   ]
  },
  {
   "cell_type": "code",
   "execution_count": 10,
   "id": "a9168a1c-0883-404e-b766-e69a2d85173f",
   "metadata": {},
   "outputs": [
    {
     "name": "stdout",
     "output_type": "stream",
     "text": [
      "2 3 5 7 11 13 17 19 23 29 31 37 41 43 47 53 59 61 67 71 "
     ]
    }
   ],
   "source": [
    "def prime_generator():\n",
    "    primes = []\n",
    "    num = 2\n",
    "\n",
    "    while num < 1000:\n",
    "        is_prime = True\n",
    "\n",
    "        for prime in primes:\n",
    "            if num % prime == 0:\n",
    "                is_prime = False\n",
    "                break\n",
    "\n",
    "        if is_prime:\n",
    "            primes.append(num)\n",
    "            yield num\n",
    "\n",
    "        num += 1\n",
    "\n",
    "\n",
    "# Create the prime number generator\n",
    "prime_gen = prime_generator()\n",
    "\n",
    "# Print the first 20 prime numbers\n",
    "for i in range(20):\n",
    "    print(next(prime_gen),end=\" \")\n",
    "\n"
   ]
  },
  {
   "cell_type": "code",
   "execution_count": 11,
   "id": "8644b848-0de6-4411-9437-59a1c3611af3",
   "metadata": {},
   "outputs": [
    {
     "data": {
      "text/plain": [
       "'ANSWER6'"
      ]
     },
     "execution_count": 11,
     "metadata": {},
     "output_type": "execute_result"
    }
   ],
   "source": [
    "'''ANSWER6'''\n"
   ]
  },
  {
   "cell_type": "code",
   "execution_count": 12,
   "id": "ee391069-efe0-4fcd-8a81-f976f309c741",
   "metadata": {},
   "outputs": [
    {
     "name": "stdout",
     "output_type": "stream",
     "text": [
      "0 1 1 2 3 5 8 13 21 34 "
     ]
    }
   ],
   "source": [
    "def test_fib(n):\n",
    "    a, b = 0, 1\n",
    "    count = 0\n",
    "    while count < n:\n",
    "        yield a\n",
    "        a, b = b, a + b\n",
    "        count += 1\n",
    "\n",
    "for i in test_fib(10):\n",
    "    print(i,end=\" \")\n"
   ]
  },
  {
   "cell_type": "code",
   "execution_count": 13,
   "id": "1f3bb6ac-1a49-4aff-9fff-b2a59aca23f1",
   "metadata": {},
   "outputs": [
    {
     "data": {
      "text/plain": [
       "'ANSWER7'"
      ]
     },
     "execution_count": 13,
     "metadata": {},
     "output_type": "execute_result"
    }
   ],
   "source": [
    "'''ANSWER7'''"
   ]
  },
  {
   "cell_type": "code",
   "execution_count": 14,
   "id": "1f095aae-915a-47a3-aa36-ef18c6cd217f",
   "metadata": {},
   "outputs": [
    {
     "data": {
      "text/plain": [
       "str"
      ]
     },
     "execution_count": 14,
     "metadata": {},
     "output_type": "execute_result"
    }
   ],
   "source": [
    "l ='pwskills'\n",
    "type(l)"
   ]
  },
  {
   "cell_type": "code",
   "execution_count": 15,
   "id": "4e21e639-a3ae-433f-825b-6038e175f135",
   "metadata": {},
   "outputs": [],
   "source": [
    "l1=[]\n",
    "for i in l:\n",
    "    l1.append(i)"
   ]
  },
  {
   "cell_type": "code",
   "execution_count": 16,
   "id": "9eb44f9b-520c-4b1e-83a3-6775a7a005c4",
   "metadata": {},
   "outputs": [
    {
     "data": {
      "text/plain": [
       "['p', 'w', 's', 'k', 'i', 'l', 'l', 's']"
      ]
     },
     "execution_count": 16,
     "metadata": {},
     "output_type": "execute_result"
    }
   ],
   "source": [
    "l1"
   ]
  },
  {
   "cell_type": "code",
   "execution_count": 17,
   "id": "dd077e18-7e6a-404e-a126-6de3d5876f2e",
   "metadata": {},
   "outputs": [
    {
     "data": {
      "text/plain": [
       "'ANSWER8'"
      ]
     },
     "execution_count": 17,
     "metadata": {},
     "output_type": "execute_result"
    }
   ],
   "source": [
    "'''ANSWER8'''"
   ]
  },
  {
   "cell_type": "code",
   "execution_count": 19,
   "id": "511a92a9-2150-4456-ba63-0fff867a04f2",
   "metadata": {},
   "outputs": [
    {
     "name": "stdin",
     "output_type": "stream",
     "text": [
      "Enter a number:  656\n"
     ]
    },
    {
     "name": "stdout",
     "output_type": "stream",
     "text": [
      "656 is a palindrome\n"
     ]
    }
   ],
   "source": [
    "def is_palindrome(num):\n",
    "    temp = num\n",
    "    reverse_num = 0\n",
    "\n",
    "    while temp > 0:\n",
    "        remainder = temp % 10\n",
    "        reverse_num = (reverse_num * 10) + remainder\n",
    "        temp = temp // 10\n",
    "\n",
    "    if num == reverse_num:\n",
    "        return True\n",
    "    else:\n",
    "        return False\n",
    "\n",
    "# Test the program\n",
    "number = int(input(\"Enter a number: \"))\n",
    "\n",
    "if is_palindrome(number):\n",
    "    print(number, \"is a palindrome\")\n",
    "else:\n",
    "    print(number, \"is not a palindrome\")\n"
   ]
  },
  {
   "cell_type": "code",
   "execution_count": 20,
   "id": "a46bb6dc-03fa-47b0-9ba6-eaf2ae6d1eee",
   "metadata": {},
   "outputs": [
    {
     "data": {
      "text/plain": [
       "'ANSWER9'"
      ]
     },
     "execution_count": 20,
     "metadata": {},
     "output_type": "execute_result"
    }
   ],
   "source": [
    "'''ANSWER9'''"
   ]
  },
  {
   "cell_type": "code",
   "execution_count": 21,
   "id": "86e98636-5263-45b1-b0e2-5fe8788ea47c",
   "metadata": {},
   "outputs": [],
   "source": [
    "l1 = []\n"
   ]
  },
  {
   "cell_type": "code",
   "execution_count": 2,
   "id": "ac9999aa-b1d2-477e-b2e0-568b1ff4bf12",
   "metadata": {},
   "outputs": [
    {
     "name": "stdout",
     "output_type": "stream",
     "text": [
      "[1, 3, 5, 7, 9, 11, 13, 15, 17, 19, 21, 23, 25, 27, 29, 31, 33, 35, 37, 39, 41, 43, 45, 47, 49, 51, 53, 55, 57, 59, 61, 63, 65, 67, 69, 71, 73, 75, 77, 79, 81, 83, 85, 87, 89, 91, 93, 95, 97, 99] "
     ]
    }
   ],
   "source": [
    "l1 =[]\n",
    "for i in range(0,101):\n",
    "    m = i%2\n",
    "    if m!=0:\n",
    "        \n",
    "        l1.append(i)\n",
    "            \n",
    "        \n",
    "  \n",
    "    \n",
    "    else :\n",
    "        continue\n",
    "          \n",
    "print(l1,end=\" \")\n"
   ]
  },
  {
   "cell_type": "code",
   "execution_count": null,
   "id": "663130f9-727c-4f62-becc-7af5132e4816",
   "metadata": {},
   "outputs": [],
   "source": []
  },
  {
   "cell_type": "code",
   "execution_count": null,
   "id": "85d215d2-57dd-42ac-b577-0ee8365a0c29",
   "metadata": {},
   "outputs": [],
   "source": []
  }
 ],
 "metadata": {
  "kernelspec": {
   "display_name": "Python 3 (ipykernel)",
   "language": "python",
   "name": "python3"
  },
  "language_info": {
   "codemirror_mode": {
    "name": "ipython",
    "version": 3
   },
   "file_extension": ".py",
   "mimetype": "text/x-python",
   "name": "python",
   "nbconvert_exporter": "python",
   "pygments_lexer": "ipython3",
   "version": "3.10.8"
  }
 },
 "nbformat": 4,
 "nbformat_minor": 5
}
